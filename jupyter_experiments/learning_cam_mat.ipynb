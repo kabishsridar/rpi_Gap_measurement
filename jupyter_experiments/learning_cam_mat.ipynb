{
 "cells": [
  {
   "cell_type": "code",
   "execution_count": 1,
   "id": "c6ad40d2",
   "metadata": {},
   "outputs": [],
   "source": [
    "import cv2 as cv\n",
    "import numpy as np"
   ]
  },
  {
   "cell_type": "code",
   "execution_count": null,
   "id": "07c26a0e",
   "metadata": {},
   "outputs": [],
   "source": [
    "calib_data_path = \"..//calibrations/calibrated_data/MultiMatrix_rpi.npz\"\n",
    "calib_data = np.load(calib_data_path)"
   ]
  },
  {
   "cell_type": "code",
   "execution_count": 3,
   "id": "8bfcb865",
   "metadata": {},
   "outputs": [
    {
     "name": "stdout",
     "output_type": "stream",
     "text": [
      "['camMatrix', 'distCoef', 'rVector', 'tVector']\n"
     ]
    }
   ],
   "source": [
    "print(calib_data.files)"
   ]
  },
  {
   "cell_type": "code",
   "execution_count": 4,
   "id": "cd258468",
   "metadata": {},
   "outputs": [],
   "source": [
    "cam_mat = calib_data[\"camMatrix\"] # assigning the datas caliberated through the MultiMatrix file\n",
    "dist_coef = calib_data[\"distCoef\"]\n"
   ]
  },
  {
   "cell_type": "code",
   "execution_count": 5,
   "id": "09ceb7fc",
   "metadata": {},
   "outputs": [
    {
     "data": {
      "text/plain": [
       "array([[5.43002586e+03, 0.00000000e+00, 7.40231366e+02],\n",
       "       [0.00000000e+00, 5.25183503e+03, 3.62542665e+02],\n",
       "       [0.00000000e+00, 0.00000000e+00, 1.00000000e+00]])"
      ]
     },
     "execution_count": 5,
     "metadata": {},
     "output_type": "execute_result"
    }
   ],
   "source": [
    "cam_mat"
   ]
  },
  {
   "cell_type": "markdown",
   "id": "85936911",
   "metadata": {},
   "source": [
    "Parts of the Camera Matrix\n",
    "\n",
    "fx = focal length in pixels (along x-axis)\n",
    "\n",
    "fy = focal length in pixels (along y-axis)\n",
    "\n",
    "cx = principal point x (optical center)\n",
    "\n",
    "cy = principal point y"
   ]
  },
  {
   "cell_type": "code",
   "execution_count": 8,
   "id": "94057dba",
   "metadata": {},
   "outputs": [
    {
     "name": "stdout",
     "output_type": "stream",
     "text": [
      "fx = 5430.03, fy = 5251.84, cx = 740.23, cy = 362.54\n"
     ]
    }
   ],
   "source": [
    "fx = cam_mat[0, 0]\n",
    "fy = cam_mat[1, 1]\n",
    "cx = cam_mat[0, 2]\n",
    "cy = cam_mat[1, 2]\n",
    "\n",
    "print(f\"fx = {fx:.2f}, fy = {fy:.2f}, cx = {cx:.2f}, cy = {cy:.2f}\")"
   ]
  },
  {
   "cell_type": "code",
   "execution_count": 9,
   "id": "a54f026a",
   "metadata": {},
   "outputs": [
    {
     "name": "stdout",
     "output_type": "stream",
     "text": [
      "Estimated distance to object: 565.63 mm\n"
     ]
    }
   ],
   "source": [
    "# Suppose rectangle in real world is 50 mm wide\n",
    "W_real = 50  # mm\n",
    "\n",
    "# Detected width of that rectangle in image (in pixels)\n",
    "W_px = 480  # pixels\n",
    "\n",
    "Z = (fx * W_real) / W_px\n",
    "print(f\"Estimated distance to object: {Z:.2f} mm\")"
   ]
  },
  {
   "cell_type": "markdown",
   "id": "fda8f032",
   "metadata": {},
   "source": [
    "✅ Yes, exactly!\n",
    "\n",
    "If the width in pixels increases from 400 to 600, you can estimate how much the object has moved closer to the camera (i.e., \"climbed\" toward it):\n",
    "\n",
    "$$\n",
    "Z_{\\text{new}} = Z_{\\text{original}} \\times \\frac{\\text{original\\_width\\_px}}{\\text{new\\_width\\_px}}\n",
    "$$\n",
    "\n",
    "🧮 Example:\n",
    "\n",
    "* Original Z = 564 mm\n",
    "* Width increased from 400 px → 600 px\n",
    "\n",
    "$$\n",
    "Z_{\\text{new}} = 564 \\times \\frac{400}{600} = 376 \\text{ mm}\n",
    "$$\n",
    "\n",
    "📏 So, the block climbed ≈ 188 mm closer to the camera.\n"
   ]
  },
  {
   "cell_type": "markdown",
   "id": "c18ed56b",
   "metadata": {},
   "source": [
    "So the idea is:\n",
    "\n",
    "- The block of known dimension is captured and width px measured at ground + 0\n",
    "\n",
    "- We can get the Z height of the block using the formula\n",
    "    \n",
    "    - We can print the Z height output to the display\n",
    "\n",
    "    - we can also print the width of the block in mm and in pixels \n",
    "\n",
    "- Then we arbitrarily increase the height of the block to ground + Y mm\n",
    "\n",
    "    - We calculate the new height and update to the display\n",
    "\n",
    "- "
   ]
  },
  {
   "cell_type": "code",
   "execution_count": null,
   "id": "eedd5102",
   "metadata": {},
   "outputs": [],
   "source": []
  },
  {
   "cell_type": "markdown",
   "id": "7f0703ab",
   "metadata": {},
   "source": [
    "| Spec                       | Value             |\n",
    "| -------------------------- | ----------------- |\n",
    "| Sensor width (mm)          | 3.68 mm           |\n",
    "| Sensor height (mm)         | 2.76 mm           |\n",
    "| Pixel pitch (single pixel) | 1.12 µm × 1.12 µm |"
   ]
  },
  {
   "cell_type": "markdown",
   "id": "bbaeb761",
   "metadata": {},
   "source": [
    "Let’s compute it step-by-step using the full sensor dimensions (Sony IMX219 = 3.68mm × 2.76mm):\n",
    "\n",
    "1. For main stream (1280 × 720):\n",
    "Pixel size X:\n",
    "\n",
    "3.68\n",
    " mm\n",
    "1280\n",
    "≈\n",
    "0.002875\n",
    " mm/px\n",
    "1280\n",
    "3.68 mm\n",
    "​\n",
    " ≈0.002875 mm/px\n",
    "Pixel size Y:\n",
    "\n",
    "2.76\n",
    " mm\n",
    "720\n",
    "≈\n",
    "0.003833\n",
    " mm/px\n",
    "720\n",
    "2.76 mm\n",
    "​\n",
    " ≈0.003833 mm/px\n",
    "2. For lores stream (640 × 480):\n",
    "Pixel size X:\n",
    "\n",
    "3.68\n",
    " mm\n",
    "640\n",
    "≈\n",
    "0.00575\n",
    " mm/px\n",
    "640\n",
    "3.68 mm\n",
    "​\n",
    " ≈0.00575 mm/px\n",
    "Pixel size Y:\n",
    "\n",
    "2.76\n",
    " mm\n",
    "480\n",
    "≈\n",
    "0.00575\n",
    " mm/px\n",
    "480\n",
    "2.76 mm\n",
    "​\n",
    " ≈0.00575 mm/px"
   ]
  },
  {
   "cell_type": "markdown",
   "id": "cbdd3234",
   "metadata": {},
   "source": [
    "> ✅ But it contains the information needed to relate pixels and real-world units — through focal length and sensor dimensions.\n",
    "\n",
    "Let’s unpack this.\n",
    "\n",
    "---\n",
    "\n",
    "### 📸 The Camera Matrix (Intrinsic Matrix K)\n",
    "\n",
    "$$\n",
    "K = \\begin{bmatrix}\n",
    "f_x & 0 & c_x \\\\\n",
    "0 & f_y & c_y \\\\\n",
    "0 & 0 & 1\n",
    "\\end{bmatrix}\n",
    "$$\n",
    "\n",
    "* fx and fy are focal lengths in **pixels**\n",
    "* cx and cy are the principal point (optical center) in pixels\n",
    "\n",
    "To convert between mm and pixels, you need:\n",
    "\n",
    "* Sensor size in mm (e.g., 3.6mm × 2.7mm)\n",
    "* Image resolution in pixels (e.g., 640 × 480)\n",
    "\n",
    "---\n",
    "\n",
    "### 🧠 How fx is Computed:\n",
    "\n",
    "$$\n",
    "f_x = \\frac{f_{\\text{mm}}}{s_x}, \\quad f_y = \\frac{f_{\\text{mm}}}{s_y}\n",
    "$$\n",
    "\n",
    "Where:\n",
    "\n",
    "* $f_{\\text{mm}}$ is focal length in millimeters\n",
    "* $s_x$, $s_y$ are pixel sizes in mm/pixel (depends on sensor resolution and physical size)\n",
    "\n",
    "So:\n",
    "\n",
    "$$\n",
    "s_x = \\frac{\\text{sensor width in mm}}{\\text{image width in px}}, \\quad\n",
    "s_y = \\frac{\\text{sensor height in mm}}{\\text{image height in px}}\n",
    "$$\n",
    "\n",
    "Then:\n",
    "\n",
    "$$\n",
    "\\text{pixel size} = \\text{mm/pixel} = \\frac{1}{f_x} \\cdot f_{\\text{mm}}\n",
    "$$\n",
    "\n",
    "---\n",
    "\n",
    "### ✅ How to Use the Camera Matrix for Real-World Scaling\n",
    "\n",
    "Let’s say:\n",
    "\n",
    "* You know the rectangle width in mm (e.g., 100 mm)\n",
    "* You measured its width in pixels on the image (e.g., 250 px)\n",
    "* fx = 700 pixels (from camera matrix)\n",
    "\n",
    "Then:\n",
    "\n",
    "$$\n",
    "Z = \\frac{f_x \\cdot \\text{real\\_width\\_mm}}{\\text{width\\_px}}\n",
    "= \\frac{700 \\cdot 100}{250} = 280 \\text{ mm}\n",
    "$$\n",
    "\n",
    "So fx acts like a bridge from real-world mm to pixels.\n",
    "\n",
    "---\n",
    "\n",
    "### 📐 Want mm-per-pixel?\n",
    "\n",
    "Use this:\n",
    "\n",
    "$$\n",
    "\\text{mm per pixel} = \\frac{\\text{sensor width in mm}}{\\text{image width in px}}\n",
    "$$\n",
    "\n",
    "For example, Pi Camera v2 has:\n",
    "\n",
    "* Sensor width ≈ 3.68 mm\n",
    "* Resolution = 3280 pixels wide\n",
    "\n",
    "So:\n",
    "\n",
    "$$\n",
    "s_x = \\frac{3.68}{3280} ≈ 0.00112 \\text{ mm/px}\n",
    "$$\n",
    "\n",
    "---\n",
    "\n",
    "### 🔁 Summary\n",
    "\n",
    "| You have...       | You get...                               |\n",
    "| ----------------- | ---------------------------------------- |\n",
    "| fx in pixels      | Projection scale from 3D mm to 2D pixels |\n",
    "| fx + known width  | Estimate Z (depth) using pinhole model   |\n",
    "| Sensor size & res | Pixel size in mm/px                      |\n",
    "\n",
    "---\n",
    "\n",
    "If you tell me:\n",
    "\n",
    "* your fx from camera matrix,\n",
    "* sensor size (or Pi Camera model),\n",
    "* resolution used for capture,\n",
    "\n",
    "I can compute the exact mm/pixel scale or give a calibrated version of depth estimation for you."
   ]
  },
  {
   "cell_type": "code",
   "execution_count": 6,
   "id": "2d327a60",
   "metadata": {},
   "outputs": [
    {
     "name": "stdout",
     "output_type": "stream",
     "text": [
      "Actual resolution: 1280x720\n"
     ]
    }
   ],
   "source": [
    "import cv2\n",
    "\n",
    "cap = cv2.VideoCapture(0)\n",
    "\n",
    "# Request a specific resolution\n",
    "cap.set(cv2.CAP_PROP_FRAME_WIDTH, 1280)\n",
    "cap.set(cv2.CAP_PROP_FRAME_HEIGHT, 720)\n",
    "\n",
    "ret, frame = cap.read()\n",
    "height, width = frame.shape[:2]\n",
    "\n",
    "print(f\"Actual resolution: {width}x{height}\")\n",
    "cap.release()"
   ]
  },
  {
   "cell_type": "code",
   "execution_count": null,
   "id": "d527c835",
   "metadata": {},
   "outputs": [],
   "source": []
  },
  {
   "cell_type": "code",
   "execution_count": null,
   "id": "71b29d1e",
   "metadata": {},
   "outputs": [],
   "source": []
  },
  {
   "cell_type": "code",
   "execution_count": null,
   "metadata": {},
   "outputs": [],
   "source": []
  },
  {
   "cell_type": "code",
   "execution_count": null,
   "metadata": {},
   "outputs": [],
   "source": []
  },
  {
   "cell_type": "code",
   "execution_count": null,
   "metadata": {},
   "outputs": [],
   "source": []
  },
  {
   "cell_type": "code",
   "execution_count": null,
   "id": "6bb4abcc",
   "metadata": {},
   "outputs": [],
   "source": []
  }
 ],
 "metadata": {
  "kernelspec": {
   "display_name": "Python 3",
   "language": "python",
   "name": "python3"
  },
  "language_info": {
   "codemirror_mode": {
    "name": "ipython",
    "version": 3
   },
   "file_extension": ".py",
   "mimetype": "text/x-python",
   "name": "python",
   "nbconvert_exporter": "python",
   "pygments_lexer": "ipython3",
   "version": "3.13.5"
  }
 },
 "nbformat": 4,
 "nbformat_minor": 5
}
