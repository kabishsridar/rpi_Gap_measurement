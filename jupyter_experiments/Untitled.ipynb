{
 "cells": [
  {
   "cell_type": "code",
   "execution_count": 9,
   "id": "2f2dd26e",
   "metadata": {},
   "outputs": [],
   "source": [
    "import cv2 as cv\n",
    "import numpy as np"
   ]
  },
  {
   "cell_type": "code",
   "execution_count": 2,
   "id": "7b513053",
   "metadata": {},
   "outputs": [],
   "source": [
    "calib_data_path = \"..//calibrations/calibrated_data/MultiMatrix_rpi.npz\"\n",
    "calib_data = np.load(calib_data_path)"
   ]
  },
  {
   "cell_type": "code",
   "execution_count": 3,
   "id": "99248d06",
   "metadata": {},
   "outputs": [
    {
     "name": "stdout",
     "output_type": "stream",
     "text": [
      "['camMatrix', 'distCoef', 'rVector', 'tVector']\n"
     ]
    }
   ],
   "source": [
    "print(calib_data.files)"
   ]
  },
  {
   "cell_type": "code",
   "execution_count": 5,
   "id": "f09e1fe7",
   "metadata": {},
   "outputs": [],
   "source": [
    "cam_mat = calib_data[\"camMatrix\"] # assigning the datas caliberated through the MultiMatrix file\n",
    "dist_coef = calib_data[\"distCoef\"]"
   ]
  },
  {
   "cell_type": "code",
   "execution_count": 7,
   "id": "553e1b82",
   "metadata": {},
   "outputs": [
    {
     "name": "stdout",
     "output_type": "stream",
     "text": [
      "fx = 5430.03, fy = 5251.84, cx = 740.23, cy = 362.54\n"
     ]
    }
   ],
   "source": [
    "fx = cam_mat[0, 0]\n",
    "fy = cam_mat[1, 1]\n",
    "cx = cam_mat[0, 2]\n",
    "cy = cam_mat[1, 2]\n",
    "\n",
    "print(f\"fx = {fx:.2f}, fy = {fy:.2f}, cx = {cx:.2f}, cy = {cy:.2f}\")"
   ]
  },
  {
   "cell_type": "code",
   "execution_count": null,
   "id": "b4ab0003",
   "metadata": {},
   "outputs": [],
   "source": []
  },
  {
   "cell_type": "code",
   "execution_count": 12,
   "id": "57cd9389",
   "metadata": {},
   "outputs": [
    {
     "name": "stdout",
     "output_type": "stream",
     "text": [
      "Estimated distance to object: 1317.97 mm\n"
     ]
    }
   ],
   "source": [
    "# Suppose rectangle in real world is 25 mm wide\n",
    "W_real = 25  # mm\n",
    "\n",
    "# Detected width of that rectangle in image (in pixels)\n",
    "W_px = 103 # pixels\n",
    "\n",
    "Z = (fx * W_real) / W_px\n",
    "print(f\"Estimated distance to object: {Z:.2f} mm\")"
   ]
  }
 ],
 "metadata": {
  "kernelspec": {
   "display_name": "Python 3 (ipykernel)",
   "language": "python",
   "name": "python3"
  },
  "language_info": {
   "codemirror_mode": {
    "name": "ipython",
    "version": 3
   },
   "file_extension": ".py",
   "mimetype": "text/x-python",
   "name": "python",
   "nbconvert_exporter": "python",
   "pygments_lexer": "ipython3",
   "version": "3.11.2"
  }
 },
 "nbformat": 4,
 "nbformat_minor": 5
}
